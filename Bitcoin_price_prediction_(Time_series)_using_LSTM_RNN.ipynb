{
  "nbformat": 4,
  "nbformat_minor": 0,
  "metadata": {
    "colab": {
      "name": "Bitcoin price prediction (Time series) using LSTM RNN.ipynb",
      "version": "0.3.2",
      "provenance": []
    },
    "kernelspec": {
      "name": "python3",
      "display_name": "Python 3"
    }
  },
  "cells": [
    {
      "metadata": {
        "id": "cvDW6CtgGtI3",
        "colab_type": "text"
      },
      "cell_type": "markdown",
      "source": [
        "# Bitcoin price prediction (Time series) using LSTM RNN"
      ]
    },
    {
      "metadata": {
        "id": "OZY3fTf0G7dA",
        "colab_type": "text"
      },
      "cell_type": "markdown",
      "source": [
        "## ***I. Data Preparation***"
      ]
    },
    {
      "metadata": {
        "id": "M7JZi4KQHBNa",
        "colab_type": "text"
      },
      "cell_type": "markdown",
      "source": [
        "### ***1. Load libraries***"
      ]
    },
    {
      "metadata": {
        "id": "05XMcazMEo-d",
        "colab_type": "code",
        "colab": {}
      },
      "cell_type": "code",
      "source": [
        "import numpy as np\n",
        "import pandas as pd\n",
        "import matplotlib.pyplot as plt\n",
        "plt.style.use('fivethirtyeight')\n",
        "import math\n",
        "\n",
        "from sklearn.preprocessing import MinMaxScaler\n",
        "from sklearn.metrics import mean_squared_error\n",
        "from sklearn.metrics import r2_score\n",
        "\n",
        "from keras.models import Sequential\n",
        "from keras.layers import Dense\n",
        "from keras.layers import LSTM\n",
        "from keras.layers import Dropout,SimpleRNN\n"
      ],
      "execution_count": 0,
      "outputs": []
    },
    {
      "metadata": {
        "id": "EmUYnjOxHHSm",
        "colab_type": "text"
      },
      "cell_type": "markdown",
      "source": [
        "### ***2.Read Data***"
      ]
    },
    {
      "metadata": {
        "id": "IuXUHH_NE1Od",
        "colab_type": "code",
        "outputId": "d6044f34-7398-4c72-d725-cd1e9e9a9725",
        "colab": {
          "base_uri": "https://localhost:8080/",
          "height": 309
        }
      },
      "cell_type": "code",
      "source": [
        "data = pd.read_csv(\"bitcoin_ticker.csv\")\n",
        "data.head()"
      ],
      "execution_count": 0,
      "outputs": [
        {
          "output_type": "execute_result",
          "data": {
            "text/html": [
              "<div>\n",
              "<style scoped>\n",
              "    .dataframe tbody tr th:only-of-type {\n",
              "        vertical-align: middle;\n",
              "    }\n",
              "\n",
              "    .dataframe tbody tr th {\n",
              "        vertical-align: top;\n",
              "    }\n",
              "\n",
              "    .dataframe thead th {\n",
              "        text-align: right;\n",
              "    }\n",
              "</style>\n",
              "<table border=\"1\" class=\"dataframe\">\n",
              "  <thead>\n",
              "    <tr style=\"text-align: right;\">\n",
              "      <th></th>\n",
              "      <th>date_id</th>\n",
              "      <th>datetime_id</th>\n",
              "      <th>market</th>\n",
              "      <th>rpt_key</th>\n",
              "      <th>last</th>\n",
              "      <th>diff_24h</th>\n",
              "      <th>diff_per_24h</th>\n",
              "      <th>bid</th>\n",
              "      <th>ask</th>\n",
              "      <th>low</th>\n",
              "      <th>high</th>\n",
              "      <th>volume</th>\n",
              "      <th>created_at</th>\n",
              "      <th>updated_at</th>\n",
              "    </tr>\n",
              "  </thead>\n",
              "  <tbody>\n",
              "    <tr>\n",
              "      <th>0</th>\n",
              "      <td>2017-05-31</td>\n",
              "      <td>2017-06-01 00:00:00</td>\n",
              "      <td>bitstamp</td>\n",
              "      <td>btc_eur</td>\n",
              "      <td>1996.72</td>\n",
              "      <td>2029.99</td>\n",
              "      <td>-1.638924</td>\n",
              "      <td>2005.50</td>\n",
              "      <td>2005.56</td>\n",
              "      <td>1950.00</td>\n",
              "      <td>2063.73</td>\n",
              "      <td>2314.500750</td>\n",
              "      <td>2017-05-31 14:59:36</td>\n",
              "      <td>2017-05-31 14:59:36</td>\n",
              "    </tr>\n",
              "    <tr>\n",
              "      <th>1</th>\n",
              "      <td>2017-05-31</td>\n",
              "      <td>2017-06-01 00:00:00</td>\n",
              "      <td>bitflyer</td>\n",
              "      <td>btc_jpy</td>\n",
              "      <td>267098.00</td>\n",
              "      <td>269649.00</td>\n",
              "      <td>-0.946045</td>\n",
              "      <td>267124.00</td>\n",
              "      <td>267267.00</td>\n",
              "      <td>267124.00</td>\n",
              "      <td>267267.00</td>\n",
              "      <td>70922.880112</td>\n",
              "      <td>2017-05-31 14:59:36</td>\n",
              "      <td>2017-05-31 14:59:36</td>\n",
              "    </tr>\n",
              "    <tr>\n",
              "      <th>2</th>\n",
              "      <td>2017-05-31</td>\n",
              "      <td>2017-06-01 00:00:00</td>\n",
              "      <td>korbit</td>\n",
              "      <td>btc_krw</td>\n",
              "      <td>3003500.00</td>\n",
              "      <td>3140000.00</td>\n",
              "      <td>-4.347134</td>\n",
              "      <td>3003500.00</td>\n",
              "      <td>3004000.00</td>\n",
              "      <td>3002000.00</td>\n",
              "      <td>3209500.00</td>\n",
              "      <td>6109.752872</td>\n",
              "      <td>2017-05-31 14:59:36</td>\n",
              "      <td>2017-05-31 14:59:36</td>\n",
              "    </tr>\n",
              "    <tr>\n",
              "      <th>3</th>\n",
              "      <td>2017-05-31</td>\n",
              "      <td>2017-06-01 00:00:00</td>\n",
              "      <td>bitstamp</td>\n",
              "      <td>btc_usd</td>\n",
              "      <td>2237.40</td>\n",
              "      <td>2239.37</td>\n",
              "      <td>-0.087971</td>\n",
              "      <td>2233.09</td>\n",
              "      <td>2237.40</td>\n",
              "      <td>2154.28</td>\n",
              "      <td>2293.46</td>\n",
              "      <td>13681.282017</td>\n",
              "      <td>2017-05-31 14:59:36</td>\n",
              "      <td>2017-05-31 14:59:36</td>\n",
              "    </tr>\n",
              "    <tr>\n",
              "      <th>4</th>\n",
              "      <td>2017-05-31</td>\n",
              "      <td>2017-06-01 00:00:00</td>\n",
              "      <td>okcoin</td>\n",
              "      <td>btc_usd</td>\n",
              "      <td>2318.82</td>\n",
              "      <td>2228.70</td>\n",
              "      <td>4.043613</td>\n",
              "      <td>2319.40</td>\n",
              "      <td>2319.99</td>\n",
              "      <td>2129.78</td>\n",
              "      <td>2318.82</td>\n",
              "      <td>4241.641516</td>\n",
              "      <td>2017-05-31 14:59:36</td>\n",
              "      <td>2017-05-31 14:59:36</td>\n",
              "    </tr>\n",
              "  </tbody>\n",
              "</table>\n",
              "</div>"
            ],
            "text/plain": [
              "      date_id          datetime_id    market  rpt_key        last    diff_24h  \\\n",
              "0  2017-05-31  2017-06-01 00:00:00  bitstamp  btc_eur     1996.72     2029.99   \n",
              "1  2017-05-31  2017-06-01 00:00:00  bitflyer  btc_jpy   267098.00   269649.00   \n",
              "2  2017-05-31  2017-06-01 00:00:00    korbit  btc_krw  3003500.00  3140000.00   \n",
              "3  2017-05-31  2017-06-01 00:00:00  bitstamp  btc_usd     2237.40     2239.37   \n",
              "4  2017-05-31  2017-06-01 00:00:00    okcoin  btc_usd     2318.82     2228.70   \n",
              "\n",
              "   diff_per_24h         bid         ask         low        high        volume  \\\n",
              "0     -1.638924     2005.50     2005.56     1950.00     2063.73   2314.500750   \n",
              "1     -0.946045   267124.00   267267.00   267124.00   267267.00  70922.880112   \n",
              "2     -4.347134  3003500.00  3004000.00  3002000.00  3209500.00   6109.752872   \n",
              "3     -0.087971     2233.09     2237.40     2154.28     2293.46  13681.282017   \n",
              "4      4.043613     2319.40     2319.99     2129.78     2318.82   4241.641516   \n",
              "\n",
              "            created_at           updated_at  \n",
              "0  2017-05-31 14:59:36  2017-05-31 14:59:36  \n",
              "1  2017-05-31 14:59:36  2017-05-31 14:59:36  \n",
              "2  2017-05-31 14:59:36  2017-05-31 14:59:36  \n",
              "3  2017-05-31 14:59:36  2017-05-31 14:59:36  \n",
              "4  2017-05-31 14:59:36  2017-05-31 14:59:36  "
            ]
          },
          "metadata": {
            "tags": []
          },
          "execution_count": 74
        }
      ]
    },
    {
      "metadata": {
        "id": "L-ykQt5aWKPT",
        "colab_type": "code",
        "outputId": "82a1bf79-429f-4de0-c875-769e86487fba",
        "colab": {
          "base_uri": "https://localhost:8080/",
          "height": 309
        }
      },
      "cell_type": "code",
      "source": [
        "data.tail()"
      ],
      "execution_count": 0,
      "outputs": [
        {
          "output_type": "execute_result",
          "data": {
            "text/html": [
              "<div>\n",
              "<style scoped>\n",
              "    .dataframe tbody tr th:only-of-type {\n",
              "        vertical-align: middle;\n",
              "    }\n",
              "\n",
              "    .dataframe tbody tr th {\n",
              "        vertical-align: top;\n",
              "    }\n",
              "\n",
              "    .dataframe thead th {\n",
              "        text-align: right;\n",
              "    }\n",
              "</style>\n",
              "<table border=\"1\" class=\"dataframe\">\n",
              "  <thead>\n",
              "    <tr style=\"text-align: right;\">\n",
              "      <th></th>\n",
              "      <th>date_id</th>\n",
              "      <th>datetime_id</th>\n",
              "      <th>market</th>\n",
              "      <th>rpt_key</th>\n",
              "      <th>last</th>\n",
              "      <th>diff_24h</th>\n",
              "      <th>diff_per_24h</th>\n",
              "      <th>bid</th>\n",
              "      <th>ask</th>\n",
              "      <th>low</th>\n",
              "      <th>high</th>\n",
              "      <th>volume</th>\n",
              "      <th>created_at</th>\n",
              "      <th>updated_at</th>\n",
              "    </tr>\n",
              "  </thead>\n",
              "  <tbody>\n",
              "    <tr>\n",
              "      <th>627185</th>\n",
              "      <td>2017-07-14</td>\n",
              "      <td>2017-07-14 13:18:00</td>\n",
              "      <td>korbit</td>\n",
              "      <td>etc_krw</td>\n",
              "      <td>20900.0000</td>\n",
              "      <td>23310.0000</td>\n",
              "      <td>-10.338910</td>\n",
              "      <td>20840.0000</td>\n",
              "      <td>20910.00000</td>\n",
              "      <td>20000.0000</td>\n",
              "      <td>23400.00000</td>\n",
              "      <td>842321.282598</td>\n",
              "      <td>2017-07-14 04:17:20</td>\n",
              "      <td>2017-07-14 04:17:20</td>\n",
              "    </tr>\n",
              "    <tr>\n",
              "      <th>627186</th>\n",
              "      <td>2017-07-14</td>\n",
              "      <td>2017-07-14 13:18:00</td>\n",
              "      <td>bitflyer</td>\n",
              "      <td>eth_btc</td>\n",
              "      <td>0.0863</td>\n",
              "      <td>0.0941</td>\n",
              "      <td>-8.289054</td>\n",
              "      <td>0.0862</td>\n",
              "      <td>0.08675</td>\n",
              "      <td>0.0862</td>\n",
              "      <td>0.08675</td>\n",
              "      <td>4448.239195</td>\n",
              "      <td>2017-07-14 04:17:20</td>\n",
              "      <td>2017-07-14 04:17:20</td>\n",
              "    </tr>\n",
              "    <tr>\n",
              "      <th>627187</th>\n",
              "      <td>2017-07-14</td>\n",
              "      <td>2017-07-14 13:18:00</td>\n",
              "      <td>korbit</td>\n",
              "      <td>eth_krw</td>\n",
              "      <td>239100.0000</td>\n",
              "      <td>268950.0000</td>\n",
              "      <td>-11.098717</td>\n",
              "      <td>238600.0000</td>\n",
              "      <td>239100.00000</td>\n",
              "      <td>235000.0000</td>\n",
              "      <td>269000.00000</td>\n",
              "      <td>117124.419358</td>\n",
              "      <td>2017-07-14 04:17:20</td>\n",
              "      <td>2017-07-14 04:17:20</td>\n",
              "    </tr>\n",
              "    <tr>\n",
              "      <th>627188</th>\n",
              "      <td>2017-07-14</td>\n",
              "      <td>2017-07-14 13:18:00</td>\n",
              "      <td>bitflyer</td>\n",
              "      <td>fx_btc_jpy</td>\n",
              "      <td>261553.0000</td>\n",
              "      <td>271310.0000</td>\n",
              "      <td>-3.596255</td>\n",
              "      <td>261554.0000</td>\n",
              "      <td>261626.00000</td>\n",
              "      <td>261554.0000</td>\n",
              "      <td>261626.00000</td>\n",
              "      <td>73814.151389</td>\n",
              "      <td>2017-07-14 04:17:20</td>\n",
              "      <td>2017-07-14 04:17:20</td>\n",
              "    </tr>\n",
              "    <tr>\n",
              "      <th>627189</th>\n",
              "      <td>2017-07-14</td>\n",
              "      <td>2017-07-14 13:18:00</td>\n",
              "      <td>okcoin</td>\n",
              "      <td>ltc_usd</td>\n",
              "      <td>45.9310</td>\n",
              "      <td>48.9170</td>\n",
              "      <td>-6.104217</td>\n",
              "      <td>45.9540</td>\n",
              "      <td>46.20000</td>\n",
              "      <td>45.2410</td>\n",
              "      <td>49.07500</td>\n",
              "      <td>52799.710000</td>\n",
              "      <td>2017-07-14 04:17:20</td>\n",
              "      <td>2017-07-14 04:17:20</td>\n",
              "    </tr>\n",
              "  </tbody>\n",
              "</table>\n",
              "</div>"
            ],
            "text/plain": [
              "           date_id          datetime_id    market     rpt_key         last  \\\n",
              "627185  2017-07-14  2017-07-14 13:18:00    korbit     etc_krw   20900.0000   \n",
              "627186  2017-07-14  2017-07-14 13:18:00  bitflyer     eth_btc       0.0863   \n",
              "627187  2017-07-14  2017-07-14 13:18:00    korbit     eth_krw  239100.0000   \n",
              "627188  2017-07-14  2017-07-14 13:18:00  bitflyer  fx_btc_jpy  261553.0000   \n",
              "627189  2017-07-14  2017-07-14 13:18:00    okcoin     ltc_usd      45.9310   \n",
              "\n",
              "           diff_24h  diff_per_24h          bid           ask          low  \\\n",
              "627185   23310.0000    -10.338910   20840.0000   20910.00000   20000.0000   \n",
              "627186       0.0941     -8.289054       0.0862       0.08675       0.0862   \n",
              "627187  268950.0000    -11.098717  238600.0000  239100.00000  235000.0000   \n",
              "627188  271310.0000     -3.596255  261554.0000  261626.00000  261554.0000   \n",
              "627189      48.9170     -6.104217      45.9540      46.20000      45.2410   \n",
              "\n",
              "                high         volume           created_at           updated_at  \n",
              "627185   23400.00000  842321.282598  2017-07-14 04:17:20  2017-07-14 04:17:20  \n",
              "627186       0.08675    4448.239195  2017-07-14 04:17:20  2017-07-14 04:17:20  \n",
              "627187  269000.00000  117124.419358  2017-07-14 04:17:20  2017-07-14 04:17:20  \n",
              "627188  261626.00000   73814.151389  2017-07-14 04:17:20  2017-07-14 04:17:20  \n",
              "627189      49.07500   52799.710000  2017-07-14 04:17:20  2017-07-14 04:17:20  "
            ]
          },
          "metadata": {
            "tags": []
          },
          "execution_count": 75
        }
      ]
    },
    {
      "metadata": {
        "id": "8k3bTr2tdGo2",
        "colab_type": "code",
        "outputId": "622cf29e-e14b-4092-a05a-d850f5db8f5a",
        "colab": {
          "base_uri": "https://localhost:8080/",
          "height": 34
        }
      },
      "cell_type": "code",
      "source": [
        "data.shape\n",
        "# dữ liệu bao gồm 627190 mẫu và 14 thuộc tính"
      ],
      "execution_count": 0,
      "outputs": [
        {
          "output_type": "execute_result",
          "data": {
            "text/plain": [
              "(627190, 14)"
            ]
          },
          "metadata": {
            "tags": []
          },
          "execution_count": 76
        }
      ]
    },
    {
      "metadata": {
        "id": "cYeT-2eWcMRA",
        "colab_type": "text"
      },
      "cell_type": "markdown",
      "source": [
        "***Thuộc tính \"rpt_key\" mô tả tất cả các loại bitcoin (btc,etc,ltc,eth,fx_btc) với các giá trị tiền tệ khác nhau như : USD,KRW,JPY,EUR***"
      ]
    },
    {
      "metadata": {
        "id": "uECAdTIQE4hE",
        "colab_type": "code",
        "outputId": "2d20db98-0bd1-4bc5-a78d-e09a4a58e827",
        "colab": {
          "base_uri": "https://localhost:8080/",
          "height": 187
        }
      },
      "cell_type": "code",
      "source": [
        "data['rpt_key'].value_counts()"
      ],
      "execution_count": 0,
      "outputs": [
        {
          "output_type": "execute_result",
          "data": {
            "text/plain": [
              "btc_usd       125438\n",
              "etc_krw        62719\n",
              "btc_jpy        62719\n",
              "ltc_usd        62719\n",
              "btc_krw        62719\n",
              "fx_btc_jpy     62719\n",
              "eth_btc        62719\n",
              "eth_krw        62719\n",
              "btc_eur        62719\n",
              "Name: rpt_key, dtype: int64"
            ]
          },
          "metadata": {
            "tags": []
          },
          "execution_count": 77
        }
      ]
    },
    {
      "metadata": {
        "id": "6p_iH--gcr9I",
        "colab_type": "text"
      },
      "cell_type": "markdown",
      "source": [
        "***Trong notebook này chúng ta chỉ sử dụng các bitcoin btc với loại tiền tệ là USD***"
      ]
    },
    {
      "metadata": {
        "id": "x9K57BaBE6WB",
        "colab_type": "code",
        "outputId": "c3c1d3eb-7eb5-4e43-e855-5b549c574412",
        "colab": {
          "base_uri": "https://localhost:8080/",
          "height": 309
        }
      },
      "cell_type": "code",
      "source": [
        "df = data.loc[(data['rpt_key'] == 'btc_usd')]\n",
        "df.head()"
      ],
      "execution_count": 0,
      "outputs": [
        {
          "output_type": "execute_result",
          "data": {
            "text/html": [
              "<div>\n",
              "<style scoped>\n",
              "    .dataframe tbody tr th:only-of-type {\n",
              "        vertical-align: middle;\n",
              "    }\n",
              "\n",
              "    .dataframe tbody tr th {\n",
              "        vertical-align: top;\n",
              "    }\n",
              "\n",
              "    .dataframe thead th {\n",
              "        text-align: right;\n",
              "    }\n",
              "</style>\n",
              "<table border=\"1\" class=\"dataframe\">\n",
              "  <thead>\n",
              "    <tr style=\"text-align: right;\">\n",
              "      <th></th>\n",
              "      <th>date_id</th>\n",
              "      <th>datetime_id</th>\n",
              "      <th>market</th>\n",
              "      <th>rpt_key</th>\n",
              "      <th>last</th>\n",
              "      <th>diff_24h</th>\n",
              "      <th>diff_per_24h</th>\n",
              "      <th>bid</th>\n",
              "      <th>ask</th>\n",
              "      <th>low</th>\n",
              "      <th>high</th>\n",
              "      <th>volume</th>\n",
              "      <th>created_at</th>\n",
              "      <th>updated_at</th>\n",
              "    </tr>\n",
              "  </thead>\n",
              "  <tbody>\n",
              "    <tr>\n",
              "      <th>3</th>\n",
              "      <td>2017-05-31</td>\n",
              "      <td>2017-06-01 00:00:00</td>\n",
              "      <td>bitstamp</td>\n",
              "      <td>btc_usd</td>\n",
              "      <td>2237.40</td>\n",
              "      <td>2239.37</td>\n",
              "      <td>-0.087971</td>\n",
              "      <td>2233.09</td>\n",
              "      <td>2237.40</td>\n",
              "      <td>2154.28</td>\n",
              "      <td>2293.46</td>\n",
              "      <td>13681.282017</td>\n",
              "      <td>2017-05-31 14:59:36</td>\n",
              "      <td>2017-05-31 14:59:36</td>\n",
              "    </tr>\n",
              "    <tr>\n",
              "      <th>4</th>\n",
              "      <td>2017-05-31</td>\n",
              "      <td>2017-06-01 00:00:00</td>\n",
              "      <td>okcoin</td>\n",
              "      <td>btc_usd</td>\n",
              "      <td>2318.82</td>\n",
              "      <td>2228.70</td>\n",
              "      <td>4.043613</td>\n",
              "      <td>2319.40</td>\n",
              "      <td>2319.99</td>\n",
              "      <td>2129.78</td>\n",
              "      <td>2318.82</td>\n",
              "      <td>4241.641516</td>\n",
              "      <td>2017-05-31 14:59:36</td>\n",
              "      <td>2017-05-31 14:59:36</td>\n",
              "    </tr>\n",
              "    <tr>\n",
              "      <th>15</th>\n",
              "      <td>2017-06-01</td>\n",
              "      <td>2017-06-01 00:01:00</td>\n",
              "      <td>bitstamp</td>\n",
              "      <td>btc_usd</td>\n",
              "      <td>2248.39</td>\n",
              "      <td>2242.44</td>\n",
              "      <td>0.265336</td>\n",
              "      <td>2247.77</td>\n",
              "      <td>2248.38</td>\n",
              "      <td>2154.28</td>\n",
              "      <td>2293.46</td>\n",
              "      <td>13701.698603</td>\n",
              "      <td>2017-05-31 15:00:36</td>\n",
              "      <td>2017-05-31 15:00:36</td>\n",
              "    </tr>\n",
              "    <tr>\n",
              "      <th>16</th>\n",
              "      <td>2017-06-01</td>\n",
              "      <td>2017-06-01 00:01:00</td>\n",
              "      <td>okcoin</td>\n",
              "      <td>btc_usd</td>\n",
              "      <td>2320.42</td>\n",
              "      <td>2228.40</td>\n",
              "      <td>4.129420</td>\n",
              "      <td>2320.99</td>\n",
              "      <td>2321.49</td>\n",
              "      <td>2129.78</td>\n",
              "      <td>2322.00</td>\n",
              "      <td>4260.261516</td>\n",
              "      <td>2017-05-31 15:00:36</td>\n",
              "      <td>2017-05-31 15:00:36</td>\n",
              "    </tr>\n",
              "    <tr>\n",
              "      <th>23</th>\n",
              "      <td>2017-06-01</td>\n",
              "      <td>2017-06-01 00:02:00</td>\n",
              "      <td>bitstamp</td>\n",
              "      <td>btc_usd</td>\n",
              "      <td>2248.35</td>\n",
              "      <td>2238.58</td>\n",
              "      <td>0.436437</td>\n",
              "      <td>2248.35</td>\n",
              "      <td>2248.69</td>\n",
              "      <td>2154.28</td>\n",
              "      <td>2293.46</td>\n",
              "      <td>13742.110913</td>\n",
              "      <td>2017-05-31 15:01:36</td>\n",
              "      <td>2017-05-31 15:01:36</td>\n",
              "    </tr>\n",
              "  </tbody>\n",
              "</table>\n",
              "</div>"
            ],
            "text/plain": [
              "       date_id          datetime_id    market  rpt_key     last  diff_24h  \\\n",
              "3   2017-05-31  2017-06-01 00:00:00  bitstamp  btc_usd  2237.40   2239.37   \n",
              "4   2017-05-31  2017-06-01 00:00:00    okcoin  btc_usd  2318.82   2228.70   \n",
              "15  2017-06-01  2017-06-01 00:01:00  bitstamp  btc_usd  2248.39   2242.44   \n",
              "16  2017-06-01  2017-06-01 00:01:00    okcoin  btc_usd  2320.42   2228.40   \n",
              "23  2017-06-01  2017-06-01 00:02:00  bitstamp  btc_usd  2248.35   2238.58   \n",
              "\n",
              "    diff_per_24h      bid      ask      low     high        volume  \\\n",
              "3      -0.087971  2233.09  2237.40  2154.28  2293.46  13681.282017   \n",
              "4       4.043613  2319.40  2319.99  2129.78  2318.82   4241.641516   \n",
              "15      0.265336  2247.77  2248.38  2154.28  2293.46  13701.698603   \n",
              "16      4.129420  2320.99  2321.49  2129.78  2322.00   4260.261516   \n",
              "23      0.436437  2248.35  2248.69  2154.28  2293.46  13742.110913   \n",
              "\n",
              "             created_at           updated_at  \n",
              "3   2017-05-31 14:59:36  2017-05-31 14:59:36  \n",
              "4   2017-05-31 14:59:36  2017-05-31 14:59:36  \n",
              "15  2017-05-31 15:00:36  2017-05-31 15:00:36  \n",
              "16  2017-05-31 15:00:36  2017-05-31 15:00:36  \n",
              "23  2017-05-31 15:01:36  2017-05-31 15:01:36  "
            ]
          },
          "metadata": {
            "tags": []
          },
          "execution_count": 78
        }
      ]
    },
    {
      "metadata": {
        "id": "maXz-Meuc3lP",
        "colab_type": "code",
        "outputId": "85379284-ab37-40e0-e2fa-efd9d17250ce",
        "colab": {
          "base_uri": "https://localhost:8080/",
          "height": 34
        }
      },
      "cell_type": "code",
      "source": [
        "df.shape\n",
        "# có 47676 mẫu được thu thập theo từng giờ"
      ],
      "execution_count": 0,
      "outputs": [
        {
          "output_type": "execute_result",
          "data": {
            "text/plain": [
              "(125438, 14)"
            ]
          },
          "metadata": {
            "tags": []
          },
          "execution_count": 79
        }
      ]
    },
    {
      "metadata": {
        "id": "-eueEQBKeT3U",
        "colab_type": "text"
      },
      "cell_type": "markdown",
      "source": [
        "***Convert datetime_id to data type and filter dates greater than 2017-06-28 00:00:00***"
      ]
    },
    {
      "metadata": {
        "id": "GFvRhBEQF_ac",
        "colab_type": "code",
        "colab": {}
      },
      "cell_type": "code",
      "source": [
        "df = df.reset_index(drop=True)\n",
        "df['datetime'] = pd.to_datetime(df['datetime_id'])\n",
        "df = df.loc[df['datetime'] > pd.to_datetime('2017-06-28 00:00:00')]"
      ],
      "execution_count": 0,
      "outputs": []
    },
    {
      "metadata": {
        "id": "T9Vr8XAxGBlM",
        "colab_type": "code",
        "colab": {}
      },
      "cell_type": "code",
      "source": [
        "df = df[['datetime', 'last', 'diff_24h', 'diff_per_24h', 'bid', 'ask', 'low', 'high', 'volume']]"
      ],
      "execution_count": 0,
      "outputs": []
    },
    {
      "metadata": {
        "id": "gytBiBh1GDiL",
        "colab_type": "code",
        "outputId": "1911ba5d-4786-4db9-ee14-aef8d8d02d77",
        "colab": {
          "base_uri": "https://localhost:8080/",
          "height": 204
        }
      },
      "cell_type": "code",
      "source": [
        "df.head()"
      ],
      "execution_count": 0,
      "outputs": [
        {
          "output_type": "execute_result",
          "data": {
            "text/html": [
              "<div>\n",
              "<style scoped>\n",
              "    .dataframe tbody tr th:only-of-type {\n",
              "        vertical-align: middle;\n",
              "    }\n",
              "\n",
              "    .dataframe tbody tr th {\n",
              "        vertical-align: top;\n",
              "    }\n",
              "\n",
              "    .dataframe thead th {\n",
              "        text-align: right;\n",
              "    }\n",
              "</style>\n",
              "<table border=\"1\" class=\"dataframe\">\n",
              "  <thead>\n",
              "    <tr style=\"text-align: right;\">\n",
              "      <th></th>\n",
              "      <th>datetime</th>\n",
              "      <th>last</th>\n",
              "      <th>diff_24h</th>\n",
              "      <th>diff_per_24h</th>\n",
              "      <th>bid</th>\n",
              "      <th>ask</th>\n",
              "      <th>low</th>\n",
              "      <th>high</th>\n",
              "      <th>volume</th>\n",
              "    </tr>\n",
              "  </thead>\n",
              "  <tbody>\n",
              "    <tr>\n",
              "      <th>0</th>\n",
              "      <td>2017-06-28 00:01:00</td>\n",
              "      <td>2344.00</td>\n",
              "      <td>2491.98</td>\n",
              "      <td>-5.938250</td>\n",
              "      <td>2335.01</td>\n",
              "      <td>2343.89</td>\n",
              "      <td>2307.0</td>\n",
              "      <td>2473.19</td>\n",
              "      <td>20719.583592</td>\n",
              "    </tr>\n",
              "    <tr>\n",
              "      <th>1</th>\n",
              "      <td>2017-06-28 00:01:00</td>\n",
              "      <td>2499.39</td>\n",
              "      <td>2682.25</td>\n",
              "      <td>-6.817411</td>\n",
              "      <td>2495.00</td>\n",
              "      <td>2499.33</td>\n",
              "      <td>2444.0</td>\n",
              "      <td>2780.62</td>\n",
              "      <td>2265.557866</td>\n",
              "    </tr>\n",
              "    <tr>\n",
              "      <th>2</th>\n",
              "      <td>2017-06-28 00:02:00</td>\n",
              "      <td>2337.18</td>\n",
              "      <td>2491.98</td>\n",
              "      <td>-6.211928</td>\n",
              "      <td>2337.18</td>\n",
              "      <td>2340.00</td>\n",
              "      <td>2307.0</td>\n",
              "      <td>2473.19</td>\n",
              "      <td>20732.082581</td>\n",
              "    </tr>\n",
              "    <tr>\n",
              "      <th>3</th>\n",
              "      <td>2017-06-28 00:02:00</td>\n",
              "      <td>2492.76</td>\n",
              "      <td>2682.25</td>\n",
              "      <td>-7.064591</td>\n",
              "      <td>2492.76</td>\n",
              "      <td>2495.00</td>\n",
              "      <td>2444.0</td>\n",
              "      <td>2780.62</td>\n",
              "      <td>2262.618866</td>\n",
              "    </tr>\n",
              "    <tr>\n",
              "      <th>4</th>\n",
              "      <td>2017-06-28 00:03:00</td>\n",
              "      <td>2335.02</td>\n",
              "      <td>2491.98</td>\n",
              "      <td>-6.298606</td>\n",
              "      <td>2335.01</td>\n",
              "      <td>2335.02</td>\n",
              "      <td>2307.0</td>\n",
              "      <td>2473.19</td>\n",
              "      <td>20665.357191</td>\n",
              "    </tr>\n",
              "  </tbody>\n",
              "</table>\n",
              "</div>"
            ],
            "text/plain": [
              "             datetime     last  diff_24h  diff_per_24h      bid      ask  \\\n",
              "0 2017-06-28 00:01:00  2344.00   2491.98     -5.938250  2335.01  2343.89   \n",
              "1 2017-06-28 00:01:00  2499.39   2682.25     -6.817411  2495.00  2499.33   \n",
              "2 2017-06-28 00:02:00  2337.18   2491.98     -6.211928  2337.18  2340.00   \n",
              "3 2017-06-28 00:02:00  2492.76   2682.25     -7.064591  2492.76  2495.00   \n",
              "4 2017-06-28 00:03:00  2335.02   2491.98     -6.298606  2335.01  2335.02   \n",
              "\n",
              "      low     high        volume  \n",
              "0  2307.0  2473.19  20719.583592  \n",
              "1  2444.0  2780.62   2265.557866  \n",
              "2  2307.0  2473.19  20732.082581  \n",
              "3  2444.0  2780.62   2262.618866  \n",
              "4  2307.0  2473.19  20665.357191  "
            ]
          },
          "metadata": {
            "tags": []
          },
          "execution_count": 86
        }
      ]
    },
    {
      "metadata": {
        "id": "RZ1cQ6bEetwB",
        "colab_type": "text"
      },
      "cell_type": "markdown",
      "source": [
        "***Chỉ lấy một cột \"last\" để đưa vào model (bạn có thể chọn thuộc tính nào khác mà bạn thích)***"
      ]
    },
    {
      "metadata": {
        "id": "ozj7Bn4iGFdl",
        "colab_type": "code",
        "outputId": "2b1f5348-2a0b-4d31-f7ca-8f8b65a815a0",
        "colab": {
          "base_uri": "https://localhost:8080/",
          "height": 204
        }
      },
      "cell_type": "code",
      "source": [
        "df = df[['last']]\n",
        "df.head()"
      ],
      "execution_count": 0,
      "outputs": [
        {
          "output_type": "execute_result",
          "data": {
            "text/html": [
              "<div>\n",
              "<style scoped>\n",
              "    .dataframe tbody tr th:only-of-type {\n",
              "        vertical-align: middle;\n",
              "    }\n",
              "\n",
              "    .dataframe tbody tr th {\n",
              "        vertical-align: top;\n",
              "    }\n",
              "\n",
              "    .dataframe thead th {\n",
              "        text-align: right;\n",
              "    }\n",
              "</style>\n",
              "<table border=\"1\" class=\"dataframe\">\n",
              "  <thead>\n",
              "    <tr style=\"text-align: right;\">\n",
              "      <th></th>\n",
              "      <th>last</th>\n",
              "    </tr>\n",
              "  </thead>\n",
              "  <tbody>\n",
              "    <tr>\n",
              "      <th>0</th>\n",
              "      <td>2344.00</td>\n",
              "    </tr>\n",
              "    <tr>\n",
              "      <th>1</th>\n",
              "      <td>2499.39</td>\n",
              "    </tr>\n",
              "    <tr>\n",
              "      <th>2</th>\n",
              "      <td>2337.18</td>\n",
              "    </tr>\n",
              "    <tr>\n",
              "      <th>3</th>\n",
              "      <td>2492.76</td>\n",
              "    </tr>\n",
              "    <tr>\n",
              "      <th>4</th>\n",
              "      <td>2335.02</td>\n",
              "    </tr>\n",
              "  </tbody>\n",
              "</table>\n",
              "</div>"
            ],
            "text/plain": [
              "      last\n",
              "0  2344.00\n",
              "1  2499.39\n",
              "2  2337.18\n",
              "3  2492.76\n",
              "4  2335.02"
            ]
          },
          "metadata": {
            "tags": []
          },
          "execution_count": 90
        }
      ]
    },
    {
      "metadata": {
        "id": "-2nimEpae6p6",
        "colab_type": "text"
      },
      "cell_type": "markdown",
      "source": [
        "***Tạo tập dataset và chuyển về kiểu float***"
      ]
    },
    {
      "metadata": {
        "id": "-Q7i0T8WGHr-",
        "colab_type": "code",
        "colab": {}
      },
      "cell_type": "code",
      "source": [
        "dataset = df.values\n",
        "dataset = dataset.astype('float32')"
      ],
      "execution_count": 0,
      "outputs": []
    },
    {
      "metadata": {
        "id": "AAdz7l2_GJuL",
        "colab_type": "code",
        "outputId": "44d13ed9-d5d4-47df-f747-1f5d7909cc99",
        "colab": {
          "base_uri": "https://localhost:8080/",
          "height": 136
        }
      },
      "cell_type": "code",
      "source": [
        "dataset"
      ],
      "execution_count": 0,
      "outputs": [
        {
          "output_type": "execute_result",
          "data": {
            "text/plain": [
              "array([[2344.  ],\n",
              "       [2499.39],\n",
              "       [2337.18],\n",
              "       ...,\n",
              "       [2394.03],\n",
              "       [2320.47],\n",
              "       [2394.03]], dtype=float32)"
            ]
          },
          "metadata": {
            "tags": []
          },
          "execution_count": 89
        }
      ]
    },
    {
      "metadata": {
        "id": "haScGotUfAP0",
        "colab_type": "text"
      },
      "cell_type": "markdown",
      "source": [
        "***Vì mạng Neural rất nhạy cảm với dữ liệu đầu vào, đặc biệt khi chúng ta đang sử dụng các hàm kích hoạt như sigmoid hoặc  tanh .Vì thế chúng tôi đã chuyển dữ liệu cvề phạm vi từ 0 đến 1, bằng cách sử dụng hàm  MinMaxScaler!***"
      ]
    },
    {
      "metadata": {
        "id": "MC26PoQ9GLXh",
        "colab_type": "code",
        "colab": {}
      },
      "cell_type": "code",
      "source": [
        "scaler = MinMaxScaler(feature_range=(0, 1))\n",
        "dataset = scaler.fit_transform(dataset)"
      ],
      "execution_count": 0,
      "outputs": []
    },
    {
      "metadata": {
        "id": "uy5Xpws1GNMD",
        "colab_type": "code",
        "outputId": "1b71f2e7-8d9b-4e52-9526-6d6300702b61",
        "colab": {
          "base_uri": "https://localhost:8080/",
          "height": 136
        }
      },
      "cell_type": "code",
      "source": [
        "dataset"
      ],
      "execution_count": 0,
      "outputs": [
        {
          "output_type": "execute_result",
          "data": {
            "text/plain": [
              "array([[0.1997695 ],\n",
              "       [0.49828053],\n",
              "       [0.18666792],\n",
              "       ...,\n",
              "       [0.29587936],\n",
              "       [0.15456724],\n",
              "       [0.29587936]], dtype=float32)"
            ]
          },
          "metadata": {
            "tags": []
          },
          "execution_count": 94
        }
      ]
    },
    {
      "metadata": {
        "id": "SlRV3DrHfH5f",
        "colab_type": "text"
      },
      "cell_type": "markdown",
      "source": [
        "***Sau đó tôi thực hiện việc chia dataset ra thành tập huấn luyện (train dataset) và tập kiểm thử (test dataset)***"
      ]
    },
    {
      "metadata": {
        "id": "C_rLpvWegQgV",
        "colab_type": "text"
      },
      "cell_type": "markdown",
      "source": [
        "Một lưu ý là trong dữ liệu chuỗi thời gian bạn không được sử dụng thư viện để chia tập huấn luyện và tập kiểm thử vì như thế sẽ làm xáo trộn dữ liệu của chúng ta."
      ]
    },
    {
      "metadata": {
        "id": "js0Zvqp8GO2J",
        "colab_type": "code",
        "outputId": "bb4f7067-41c3-4256-9b30-3de4b3bf1832",
        "colab": {
          "base_uri": "https://localhost:8080/",
          "height": 34
        }
      },
      "cell_type": "code",
      "source": [
        "#scale : train 67%, test 33%\n",
        "train_size = int(len(dataset) * 0.67)\n",
        "test_size = len(dataset) - train_size\n",
        "train, test = dataset[0:train_size, :], dataset[train_size:len(dataset), :]\n",
        "print(len(train), len(test))"
      ],
      "execution_count": 0,
      "outputs": [
        {
          "output_type": "stream",
          "text": [
            "31942 15734\n"
          ],
          "name": "stdout"
        }
      ]
    },
    {
      "metadata": {
        "id": "JxEgXEdGgpiU",
        "colab_type": "text"
      },
      "cell_type": "markdown",
      "source": [
        "Sau khi chia tập kiểm thử và tập huần luyện thì tụi mình có 31942 mẫu cho tập huấn luyện và 15734 cho tập kiểm thử."
      ]
    },
    {
      "metadata": {
        "id": "Lk84obAPg4zV",
        "colab_type": "text"
      },
      "cell_type": "markdown",
      "source": [
        "Bây giờ dữ liệu huấn luyện của mình sẽ như thế này."
      ]
    },
    {
      "metadata": {
        "id": "e3LPkqHKgicw",
        "colab_type": "code",
        "outputId": "e3501b10-298c-4c6a-ebbd-385dd43457fa",
        "colab": {
          "base_uri": "https://localhost:8080/",
          "height": 136
        }
      },
      "cell_type": "code",
      "source": [
        "print(train)"
      ],
      "execution_count": 0,
      "outputs": [
        {
          "output_type": "stream",
          "text": [
            "[[0.1997695 ]\n",
            " [0.49828053]\n",
            " [0.18666792]\n",
            " ...\n",
            " [0.7081547 ]\n",
            " [0.5206418 ]\n",
            " [0.70805883]]\n"
          ],
          "name": "stdout"
        }
      ]
    },
    {
      "metadata": {
        "id": "164M9bm6hC9m",
        "colab_type": "text"
      },
      "cell_type": "markdown",
      "source": [
        "Tụi mình cần chuyển đổi một mảng giá trị đó về một ma trận dataset\n",
        "\n"
      ]
    },
    {
      "metadata": {
        "id": "aPYmovPYGQ8N",
        "colab_type": "code",
        "colab": {}
      },
      "cell_type": "code",
      "source": [
        "# convert an array of values into a dataset matrix\n",
        "def create_dataset(dataset, look_back=1):\n",
        "  dataX, dataY = [], []\n",
        "  for i in range(len(dataset)-look_back-1):\n",
        "    a = dataset[i:(i+look_back), 0]\n",
        "    dataX.append(a)\n",
        "    dataY.append(dataset[i + look_back, 0])\n",
        "  return np.array(dataX), np.array(dataY)"
      ],
      "execution_count": 0,
      "outputs": []
    },
    {
      "metadata": {
        "id": "pBNfBOI8GS76",
        "colab_type": "code",
        "colab": {}
      },
      "cell_type": "code",
      "source": [
        "look_back = 10\n",
        "trainX, trainY = create_dataset(train, look_back=look_back)\n",
        "testX, testY = create_dataset(test, look_back=look_back)"
      ],
      "execution_count": 0,
      "outputs": []
    },
    {
      "metadata": {
        "id": "1m_OoTbajrW0",
        "colab_type": "text"
      },
      "cell_type": "markdown",
      "source": [
        "Tập train bây của mình sẽ như thế này."
      ]
    },
    {
      "metadata": {
        "id": "wekI-twRo0Fr",
        "colab_type": "code",
        "colab": {}
      },
      "cell_type": "code",
      "source": [
        "sampleX_1=train[0:10,0]\n",
        "sampleY_1=train[10,0]"
      ],
      "execution_count": 0,
      "outputs": []
    },
    {
      "metadata": {
        "id": "p6is_pcNo9Qw",
        "colab_type": "code",
        "outputId": "06c68f9a-a733-472e-cc4c-0f54a97a7922",
        "colab": {
          "base_uri": "https://localhost:8080/",
          "height": 68
        }
      },
      "cell_type": "code",
      "source": [
        "print(sampleX_1)\n",
        "print(sampleY_1)"
      ],
      "execution_count": 0,
      "outputs": [
        {
          "output_type": "stream",
          "text": [
            "[0.1997695  0.49828053 0.18666792 0.4855442  0.18251848 0.48984718\n",
            " 0.19590807 0.4975314  0.19973087 0.4860053 ]\n",
            "0.18442059\n"
          ],
          "name": "stdout"
        }
      ]
    },
    {
      "metadata": {
        "id": "SfiPuy5CGV2A",
        "colab_type": "code",
        "outputId": "42f50cdc-2ba1-470e-a7a9-02cf8e75412a",
        "colab": {
          "base_uri": "https://localhost:8080/",
          "height": 238
        }
      },
      "cell_type": "code",
      "source": [
        "trainX"
      ],
      "execution_count": 0,
      "outputs": [
        {
          "output_type": "execute_result",
          "data": {
            "text/plain": [
              "array([[0.1997695 , 0.49828053, 0.18666792, ..., 0.4975314 , 0.19973087,\n",
              "        0.4860053 ],\n",
              "       [0.49828053, 0.18666792, 0.4855442 , ..., 0.19973087, 0.4860053 ,\n",
              "        0.18442059],\n",
              "       [0.18666792, 0.4855442 , 0.18251848, ..., 0.4860053 , 0.18442059,\n",
              "        0.48598576],\n",
              "       ...,\n",
              "       [0.53376245, 0.6943617 , 0.53105354, ..., 0.7082124 , 0.5205841 ,\n",
              "        0.7081547 ],\n",
              "       [0.6943617 , 0.53105354, 0.70823145, ..., 0.5205841 , 0.7081547 ,\n",
              "        0.52665424],\n",
              "       [0.53105354, 0.70823145, 0.5332055 , ..., 0.7081547 , 0.52665424,\n",
              "        0.7081547 ]], dtype=float32)"
            ]
          },
          "metadata": {
            "tags": []
          },
          "execution_count": 100
        }
      ]
    },
    {
      "metadata": {
        "id": "cO_tBqaJGXq6",
        "colab_type": "code",
        "outputId": "ad41e5a3-fe89-4740-f3df-f4c581b640b1",
        "colab": {
          "base_uri": "https://localhost:8080/",
          "height": 51
        }
      },
      "cell_type": "code",
      "source": [
        "trainY"
      ],
      "execution_count": 0,
      "outputs": [
        {
          "output_type": "execute_result",
          "data": {
            "text/plain": [
              "array([0.18442059, 0.48598576, 0.19208527, ..., 0.52665424, 0.7081547 ,\n",
              "       0.5206418 ], dtype=float32)"
            ]
          },
          "metadata": {
            "tags": []
          },
          "execution_count": 128
        }
      ]
    },
    {
      "metadata": {
        "id": "QDCeedwJjyRo",
        "colab_type": "text"
      },
      "cell_type": "markdown",
      "source": [
        " Cuối cùng tụi mình reshape  dữ liệu lại trước khi đưa vào mô mình"
      ]
    },
    {
      "metadata": {
        "id": "BaLOkXD4GajG",
        "colab_type": "code",
        "colab": {}
      },
      "cell_type": "code",
      "source": [
        "trainX = np.reshape(trainX, (trainX.shape[0], 1, trainX.shape[1]))\n",
        "testX = np.reshape(testX, (testX.shape[0], 1, testX.shape[1]))"
      ],
      "execution_count": 0,
      "outputs": []
    },
    {
      "metadata": {
        "id": "TPLvTqq_kGQd",
        "colab_type": "text"
      },
      "cell_type": "markdown",
      "source": [
        "## ***II. XÂY DỰNG MÔ HÌNH***"
      ]
    },
    {
      "metadata": {
        "id": "iqEFWjIakPXx",
        "colab_type": "text"
      },
      "cell_type": "markdown",
      "source": [
        "### ***1. LONG SHORT TERM MEMORY (LSTM)***"
      ]
    },
    {
      "metadata": {
        "id": "6kJhyP6kkV1T",
        "colab_type": "text"
      },
      "cell_type": "markdown",
      "source": [
        ""
      ]
    },
    {
      "metadata": {
        "id": "S2Lvn4KuGcPc",
        "colab_type": "code",
        "outputId": "01eb70c1-7af0-4b16-b416-e46333f9d0cb",
        "colab": {
          "base_uri": "https://localhost:8080/",
          "height": 3556
        }
      },
      "cell_type": "code",
      "source": [
        "lstm_model = Sequential()\n",
        "lstm_model.add(LSTM(4, input_shape=(1, look_back)))\n",
        "lstm_model.add(Dense(1))\n",
        "lstm_model.compile(loss='mean_squared_error', optimizer='adam')\n",
        "lstm_model.fit(trainX, trainY, epochs=100, batch_size=256, verbose=2)"
      ],
      "execution_count": 0,
      "outputs": [
        {
          "output_type": "stream",
          "text": [
            "WARNING:tensorflow:From /usr/local/lib/python3.6/dist-packages/tensorflow/python/framework/op_def_library.py:263: colocate_with (from tensorflow.python.framework.ops) is deprecated and will be removed in a future version.\n",
            "Instructions for updating:\n",
            "Colocations handled automatically by placer.\n",
            "WARNING:tensorflow:From /usr/local/lib/python3.6/dist-packages/tensorflow/python/ops/math_ops.py:3066: to_int32 (from tensorflow.python.ops.math_ops) is deprecated and will be removed in a future version.\n",
            "Instructions for updating:\n",
            "Use tf.cast instead.\n",
            "Epoch 1/100\n",
            " - 1s - loss: 0.0303\n",
            "Epoch 2/100\n",
            " - 0s - loss: 0.0073\n",
            "Epoch 3/100\n",
            " - 0s - loss: 0.0045\n",
            "Epoch 4/100\n",
            " - 0s - loss: 0.0021\n",
            "Epoch 5/100\n",
            " - 0s - loss: 6.8284e-04\n",
            "Epoch 6/100\n",
            " - 0s - loss: 2.2635e-04\n",
            "Epoch 7/100\n",
            " - 0s - loss: 1.3851e-04\n",
            "Epoch 8/100\n",
            " - 0s - loss: 1.2568e-04\n",
            "Epoch 9/100\n",
            " - 0s - loss: 1.2311e-04\n",
            "Epoch 10/100\n",
            " - 0s - loss: 1.2221e-04\n",
            "Epoch 11/100\n",
            " - 0s - loss: 1.2159e-04\n",
            "Epoch 12/100\n",
            " - 0s - loss: 1.2079e-04\n",
            "Epoch 13/100\n",
            " - 0s - loss: 1.2000e-04\n",
            "Epoch 14/100\n",
            " - 0s - loss: 1.1944e-04\n",
            "Epoch 15/100\n",
            " - 0s - loss: 1.1874e-04\n",
            "Epoch 16/100\n",
            " - 0s - loss: 1.1811e-04\n",
            "Epoch 17/100\n",
            " - 0s - loss: 1.1750e-04\n",
            "Epoch 18/100\n",
            " - 0s - loss: 1.1676e-04\n",
            "Epoch 19/100\n",
            " - 0s - loss: 1.1621e-04\n",
            "Epoch 20/100\n",
            " - 0s - loss: 1.1570e-04\n",
            "Epoch 21/100\n",
            " - 0s - loss: 1.1497e-04\n",
            "Epoch 22/100\n",
            " - 0s - loss: 1.1441e-04\n",
            "Epoch 23/100\n",
            " - 0s - loss: 1.1406e-04\n",
            "Epoch 24/100\n",
            " - 0s - loss: 1.1352e-04\n",
            "Epoch 25/100\n",
            " - 0s - loss: 1.1254e-04\n",
            "Epoch 26/100\n",
            " - 0s - loss: 1.1213e-04\n",
            "Epoch 27/100\n",
            " - 0s - loss: 1.1173e-04\n",
            "Epoch 28/100\n",
            " - 0s - loss: 1.1104e-04\n",
            "Epoch 29/100\n",
            " - 0s - loss: 1.1034e-04\n",
            "Epoch 30/100\n",
            " - 0s - loss: 1.0959e-04\n",
            "Epoch 31/100\n",
            " - 0s - loss: 1.0947e-04\n",
            "Epoch 32/100\n",
            " - 0s - loss: 1.0848e-04\n",
            "Epoch 33/100\n",
            " - 0s - loss: 1.0809e-04\n",
            "Epoch 34/100\n",
            " - 0s - loss: 1.0718e-04\n",
            "Epoch 35/100\n",
            " - 0s - loss: 1.0662e-04\n",
            "Epoch 36/100\n",
            " - 0s - loss: 1.0597e-04\n",
            "Epoch 37/100\n",
            " - 0s - loss: 1.0524e-04\n",
            "Epoch 38/100\n",
            " - 0s - loss: 1.0474e-04\n",
            "Epoch 39/100\n",
            " - 0s - loss: 1.0350e-04\n",
            "Epoch 40/100\n",
            " - 0s - loss: 1.0366e-04\n",
            "Epoch 41/100\n",
            " - 0s - loss: 1.0269e-04\n",
            "Epoch 42/100\n",
            " - 0s - loss: 1.0192e-04\n",
            "Epoch 43/100\n",
            " - 0s - loss: 1.0056e-04\n",
            "Epoch 44/100\n",
            " - 0s - loss: 1.0011e-04\n",
            "Epoch 45/100\n",
            " - 0s - loss: 9.9949e-05\n",
            "Epoch 46/100\n",
            " - 0s - loss: 9.9153e-05\n",
            "Epoch 47/100\n",
            " - 0s - loss: 9.8273e-05\n",
            "Epoch 48/100\n",
            " - 0s - loss: 9.7100e-05\n",
            "Epoch 49/100\n",
            " - 0s - loss: 9.6420e-05\n",
            "Epoch 50/100\n",
            " - 0s - loss: 9.5624e-05\n",
            "Epoch 51/100\n",
            " - 0s - loss: 9.6952e-05\n",
            "Epoch 52/100\n",
            " - 0s - loss: 9.4596e-05\n",
            "Epoch 53/100\n",
            " - 0s - loss: 9.3558e-05\n",
            "Epoch 54/100\n",
            " - 0s - loss: 9.3666e-05\n",
            "Epoch 55/100\n",
            " - 0s - loss: 9.2891e-05\n",
            "Epoch 56/100\n",
            " - 0s - loss: 9.1651e-05\n",
            "Epoch 57/100\n",
            " - 0s - loss: 9.1075e-05\n",
            "Epoch 58/100\n",
            " - 0s - loss: 9.2230e-05\n",
            "Epoch 59/100\n",
            " - 0s - loss: 9.1091e-05\n",
            "Epoch 60/100\n",
            " - 0s - loss: 8.9842e-05\n",
            "Epoch 61/100\n",
            " - 0s - loss: 8.9422e-05\n",
            "Epoch 62/100\n",
            " - 0s - loss: 8.8534e-05\n",
            "Epoch 63/100\n",
            " - 0s - loss: 8.8422e-05\n",
            "Epoch 64/100\n",
            " - 0s - loss: 8.7331e-05\n",
            "Epoch 65/100\n",
            " - 0s - loss: 8.7355e-05\n",
            "Epoch 66/100\n",
            " - 0s - loss: 8.6453e-05\n",
            "Epoch 67/100\n",
            " - 0s - loss: 8.6790e-05\n",
            "Epoch 68/100\n",
            " - 0s - loss: 8.5685e-05\n",
            "Epoch 69/100\n",
            " - 0s - loss: 8.8369e-05\n",
            "Epoch 70/100\n",
            " - 0s - loss: 8.5476e-05\n",
            "Epoch 71/100\n",
            " - 0s - loss: 8.5252e-05\n",
            "Epoch 72/100\n",
            " - 0s - loss: 8.4758e-05\n",
            "Epoch 73/100\n",
            " - 0s - loss: 8.5136e-05\n",
            "Epoch 74/100\n",
            " - 0s - loss: 8.3905e-05\n",
            "Epoch 75/100\n",
            " - 0s - loss: 8.4788e-05\n",
            "Epoch 76/100\n",
            " - 0s - loss: 8.4263e-05\n",
            "Epoch 77/100\n",
            " - 0s - loss: 8.4500e-05\n",
            "Epoch 78/100\n",
            " - 0s - loss: 8.2688e-05\n",
            "Epoch 79/100\n",
            " - 0s - loss: 8.2908e-05\n",
            "Epoch 80/100\n",
            " - 0s - loss: 8.2406e-05\n",
            "Epoch 81/100\n",
            " - 0s - loss: 8.2339e-05\n",
            "Epoch 82/100\n",
            " - 0s - loss: 8.2801e-05\n",
            "Epoch 83/100\n",
            " - 0s - loss: 8.2434e-05\n",
            "Epoch 84/100\n",
            " - 0s - loss: 8.3781e-05\n",
            "Epoch 85/100\n",
            " - 0s - loss: 8.2264e-05\n",
            "Epoch 86/100\n",
            " - 0s - loss: 8.2246e-05\n",
            "Epoch 87/100\n",
            " - 0s - loss: 8.1880e-05\n",
            "Epoch 88/100\n",
            " - 0s - loss: 8.2325e-05\n",
            "Epoch 89/100\n",
            " - 0s - loss: 8.1312e-05\n",
            "Epoch 90/100\n",
            " - 0s - loss: 8.2179e-05\n",
            "Epoch 91/100\n",
            " - 0s - loss: 8.2178e-05\n",
            "Epoch 92/100\n",
            " - 0s - loss: 8.2483e-05\n",
            "Epoch 93/100\n",
            " - 0s - loss: 8.0605e-05\n",
            "Epoch 94/100\n",
            " - 0s - loss: 8.2329e-05\n",
            "Epoch 95/100\n",
            " - 0s - loss: 8.0783e-05\n",
            "Epoch 96/100\n",
            " - 0s - loss: 8.1072e-05\n",
            "Epoch 97/100\n",
            " - 0s - loss: 8.0597e-05\n",
            "Epoch 98/100\n",
            " - 0s - loss: 8.0858e-05\n",
            "Epoch 99/100\n",
            " - 0s - loss: 8.0882e-05\n",
            "Epoch 100/100\n",
            " - 0s - loss: 8.0300e-05\n"
          ],
          "name": "stdout"
        },
        {
          "output_type": "execute_result",
          "data": {
            "text/plain": [
              "<keras.callbacks.History at 0x7f9f8c5b7860>"
            ]
          },
          "metadata": {
            "tags": []
          },
          "execution_count": 21
        }
      ]
    },
    {
      "metadata": {
        "id": "AwxJmiaGGedx",
        "colab_type": "code",
        "colab": {}
      },
      "cell_type": "code",
      "source": [
        "lstm_predictions = lstm_model.predict(testX)\n",
        "\n",
        "lstm_score = r2_score(testY,lstm_predictions)"
      ],
      "execution_count": 0,
      "outputs": []
    },
    {
      "metadata": {
        "id": "HZ_4dwPtkZsy",
        "colab_type": "text"
      },
      "cell_type": "markdown",
      "source": [
        "### ***2. RECURRENT NEURAL NETWORK (RNN)***"
      ]
    },
    {
      "metadata": {
        "id": "8UvBOoEOGiIl",
        "colab_type": "code",
        "outputId": "276c2a71-d6d0-494d-c3dd-db412d6a4f9a",
        "colab": {
          "base_uri": "https://localhost:8080/",
          "height": 3434
        }
      },
      "cell_type": "code",
      "source": [
        "rnn_model = Sequential()\n",
        "rnn_model.add(SimpleRNN(4, input_shape=(1, look_back)))\n",
        "rnn_model.add(Dense(1))\n",
        "rnn_model.compile(loss='mean_squared_error', optimizer='adam')\n",
        "rnn_model.fit(trainX, trainY, epochs=100, batch_size=256, verbose=2)"
      ],
      "execution_count": 0,
      "outputs": [
        {
          "output_type": "stream",
          "text": [
            "Epoch 1/100\n",
            " - 0s - loss: 0.7408\n",
            "Epoch 2/100\n",
            " - 0s - loss: 0.0146\n",
            "Epoch 3/100\n",
            " - 0s - loss: 0.0075\n",
            "Epoch 4/100\n",
            " - 0s - loss: 0.0063\n",
            "Epoch 5/100\n",
            " - 0s - loss: 0.0051\n",
            "Epoch 6/100\n",
            " - 0s - loss: 0.0042\n",
            "Epoch 7/100\n",
            " - 0s - loss: 0.0034\n",
            "Epoch 8/100\n",
            " - 0s - loss: 0.0028\n",
            "Epoch 9/100\n",
            " - 0s - loss: 0.0024\n",
            "Epoch 10/100\n",
            " - 0s - loss: 0.0021\n",
            "Epoch 11/100\n",
            " - 0s - loss: 0.0018\n",
            "Epoch 12/100\n",
            " - 0s - loss: 0.0016\n",
            "Epoch 13/100\n",
            " - 0s - loss: 0.0015\n",
            "Epoch 14/100\n",
            " - 0s - loss: 0.0014\n",
            "Epoch 15/100\n",
            " - 0s - loss: 0.0012\n",
            "Epoch 16/100\n",
            " - 0s - loss: 0.0011\n",
            "Epoch 17/100\n",
            " - 0s - loss: 0.0010\n",
            "Epoch 18/100\n",
            " - 0s - loss: 9.2085e-04\n",
            "Epoch 19/100\n",
            " - 0s - loss: 8.2594e-04\n",
            "Epoch 20/100\n",
            " - 0s - loss: 7.3788e-04\n",
            "Epoch 21/100\n",
            " - 0s - loss: 6.5672e-04\n",
            "Epoch 22/100\n",
            " - 0s - loss: 5.8259e-04\n",
            "Epoch 23/100\n",
            " - 0s - loss: 5.1606e-04\n",
            "Epoch 24/100\n",
            " - 0s - loss: 4.5688e-04\n",
            "Epoch 25/100\n",
            " - 0s - loss: 4.0486e-04\n",
            "Epoch 26/100\n",
            " - 0s - loss: 3.5992e-04\n",
            "Epoch 27/100\n",
            " - 0s - loss: 3.2191e-04\n",
            "Epoch 28/100\n",
            " - 0s - loss: 2.9003e-04\n",
            "Epoch 29/100\n",
            " - 0s - loss: 2.6373e-04\n",
            "Epoch 30/100\n",
            " - 0s - loss: 2.4253e-04\n",
            "Epoch 31/100\n",
            " - 0s - loss: 2.2595e-04\n",
            "Epoch 32/100\n",
            " - 0s - loss: 2.1313e-04\n",
            "Epoch 33/100\n",
            " - 0s - loss: 2.0314e-04\n",
            "Epoch 34/100\n",
            " - 0s - loss: 1.9592e-04\n",
            "Epoch 35/100\n",
            " - 0s - loss: 1.9061e-04\n",
            "Epoch 36/100\n",
            " - 0s - loss: 1.8678e-04\n",
            "Epoch 37/100\n",
            " - 0s - loss: 1.8401e-04\n",
            "Epoch 38/100\n",
            " - 0s - loss: 1.8217e-04\n",
            "Epoch 39/100\n",
            " - 0s - loss: 1.8081e-04\n",
            "Epoch 40/100\n",
            " - 0s - loss: 1.7966e-04\n",
            "Epoch 41/100\n",
            " - 0s - loss: 1.7865e-04\n",
            "Epoch 42/100\n",
            " - 0s - loss: 1.7795e-04\n",
            "Epoch 43/100\n",
            " - 0s - loss: 1.7734e-04\n",
            "Epoch 44/100\n",
            " - 0s - loss: 1.7660e-04\n",
            "Epoch 45/100\n",
            " - 0s - loss: 1.7604e-04\n",
            "Epoch 46/100\n",
            " - 0s - loss: 1.7526e-04\n",
            "Epoch 47/100\n",
            " - 0s - loss: 1.7462e-04\n",
            "Epoch 48/100\n",
            " - 0s - loss: 1.7390e-04\n",
            "Epoch 49/100\n",
            " - 0s - loss: 1.7326e-04\n",
            "Epoch 50/100\n",
            " - 0s - loss: 1.7213e-04\n",
            "Epoch 51/100\n",
            " - 0s - loss: 1.7124e-04\n",
            "Epoch 52/100\n",
            " - 0s - loss: 1.7044e-04\n",
            "Epoch 53/100\n",
            " - 0s - loss: 1.6911e-04\n",
            "Epoch 54/100\n",
            " - 0s - loss: 1.6811e-04\n",
            "Epoch 55/100\n",
            " - 0s - loss: 1.6744e-04\n",
            "Epoch 56/100\n",
            " - 0s - loss: 1.6616e-04\n",
            "Epoch 57/100\n",
            " - 0s - loss: 1.6526e-04\n",
            "Epoch 58/100\n",
            " - 0s - loss: 1.6381e-04\n",
            "Epoch 59/100\n",
            " - 0s - loss: 1.6278e-04\n",
            "Epoch 60/100\n",
            " - 0s - loss: 1.6123e-04\n",
            "Epoch 61/100\n",
            " - 0s - loss: 1.6073e-04\n",
            "Epoch 62/100\n",
            " - 0s - loss: 1.5838e-04\n",
            "Epoch 63/100\n",
            " - 0s - loss: 1.5803e-04\n",
            "Epoch 64/100\n",
            " - 0s - loss: 1.5575e-04\n",
            "Epoch 65/100\n",
            " - 0s - loss: 1.5424e-04\n",
            "Epoch 66/100\n",
            " - 0s - loss: 1.5280e-04\n",
            "Epoch 67/100\n",
            " - 0s - loss: 1.5105e-04\n",
            "Epoch 68/100\n",
            " - 0s - loss: 1.4975e-04\n",
            "Epoch 69/100\n",
            " - 0s - loss: 1.4749e-04\n",
            "Epoch 70/100\n",
            " - 0s - loss: 1.4635e-04\n",
            "Epoch 71/100\n",
            " - 0s - loss: 1.4432e-04\n",
            "Epoch 72/100\n",
            " - 0s - loss: 1.4326e-04\n",
            "Epoch 73/100\n",
            " - 0s - loss: 1.4050e-04\n",
            "Epoch 74/100\n",
            " - 0s - loss: 1.3888e-04\n",
            "Epoch 75/100\n",
            " - 0s - loss: 1.3711e-04\n",
            "Epoch 76/100\n",
            " - 0s - loss: 1.3511e-04\n",
            "Epoch 77/100\n",
            " - 0s - loss: 1.3388e-04\n",
            "Epoch 78/100\n",
            " - 0s - loss: 1.3322e-04\n",
            "Epoch 79/100\n",
            " - 0s - loss: 1.2983e-04\n",
            "Epoch 80/100\n",
            " - 0s - loss: 1.2818e-04\n",
            "Epoch 81/100\n",
            " - 0s - loss: 1.2757e-04\n",
            "Epoch 82/100\n",
            " - 0s - loss: 1.2460e-04\n",
            "Epoch 83/100\n",
            " - 0s - loss: 1.2285e-04\n",
            "Epoch 84/100\n",
            " - 0s - loss: 1.2076e-04\n",
            "Epoch 85/100\n",
            " - 0s - loss: 1.1904e-04\n",
            "Epoch 86/100\n",
            " - 0s - loss: 1.1788e-04\n",
            "Epoch 87/100\n",
            " - 0s - loss: 1.1732e-04\n",
            "Epoch 88/100\n",
            " - 0s - loss: 1.1780e-04\n",
            "Epoch 89/100\n",
            " - 0s - loss: 1.1432e-04\n",
            "Epoch 90/100\n",
            " - 0s - loss: 1.1323e-04\n",
            "Epoch 91/100\n",
            " - 0s - loss: 1.1319e-04\n",
            "Epoch 92/100\n",
            " - 0s - loss: 1.1138e-04\n",
            "Epoch 93/100\n",
            " - 0s - loss: 1.0957e-04\n",
            "Epoch 94/100\n",
            " - 0s - loss: 1.0820e-04\n",
            "Epoch 95/100\n",
            " - 0s - loss: 1.0667e-04\n",
            "Epoch 96/100\n",
            " - 0s - loss: 1.0780e-04\n",
            "Epoch 97/100\n",
            " - 0s - loss: 1.0680e-04\n",
            "Epoch 98/100\n",
            " - 0s - loss: 1.0525e-04\n",
            "Epoch 99/100\n",
            " - 0s - loss: 1.0483e-04\n",
            "Epoch 100/100\n",
            " - 0s - loss: 1.0615e-04\n"
          ],
          "name": "stdout"
        },
        {
          "output_type": "execute_result",
          "data": {
            "text/plain": [
              "<keras.callbacks.History at 0x7f9f86a85588>"
            ]
          },
          "metadata": {
            "tags": []
          },
          "execution_count": 24
        }
      ]
    },
    {
      "metadata": {
        "id": "NpsQ714HGkDl",
        "colab_type": "code",
        "colab": {}
      },
      "cell_type": "code",
      "source": [
        "rnn_predictions = rnn_model.predict(testX)\n",
        "\n",
        "rnn_score = r2_score(testY,rnn_predictions)"
      ],
      "execution_count": 0,
      "outputs": []
    },
    {
      "metadata": {
        "id": "9LXu8YOqk0II",
        "colab_type": "text"
      },
      "cell_type": "markdown",
      "source": [
        "### ***3. EVALUATE***"
      ]
    },
    {
      "metadata": {
        "id": "KJ5nIGZEGmid",
        "colab_type": "code",
        "outputId": "95b17bf7-b0d3-4f65-8b92-a0c26f1391c3",
        "colab": {
          "base_uri": "https://localhost:8080/",
          "height": 51
        }
      },
      "cell_type": "code",
      "source": [
        "print(\"R^2 Score of RNN\",rnn_score)\n",
        "print(\"R^2 Score of LSTM\",lstm_score)"
      ],
      "execution_count": 0,
      "outputs": [
        {
          "output_type": "stream",
          "text": [
            "R^2 Score of RNN 0.9955172794248569\n",
            "R^2 Score of LSTM 0.9970190605301679\n"
          ],
          "name": "stdout"
        }
      ]
    },
    {
      "metadata": {
        "id": "1fIW7TLKGoLT",
        "colab_type": "code",
        "colab": {}
      },
      "cell_type": "code",
      "source": [
        "lstm_predictions = scaler.inverse_transform(lstm_predictions)\n",
        "rnn_predictions = scaler.inverse_transform(rnn_predictions)\n",
        "testY = scaler.inverse_transform(testY.reshape(-1,1))"
      ],
      "execution_count": 0,
      "outputs": []
    },
    {
      "metadata": {
        "id": "r7El0JUYJrZT",
        "colab_type": "code",
        "colab": {}
      },
      "cell_type": "code",
      "source": [
        "def plot_predictions(test,predicted):\n",
        "    plt.plot(test, color='red',label='Real Bitcoin Price')\n",
        "    plt.plot(predicted, color='blue',label='Predicted Bitcoin Price')\n",
        "    plt.title('Bitcoin Price Prediction')\n",
        "    plt.xlabel('Time')\n",
        "    plt.ylabel('Bitcoin Stock Price')\n",
        "    plt.legend()\n",
        "    plt.show()"
      ],
      "execution_count": 0,
      "outputs": []
    },
    {
      "metadata": {
        "id": "9PBkftGPJwNN",
        "colab_type": "code",
        "outputId": "31013cb2-2dc9-4ce9-ea90-1e35941bedc0",
        "colab": {
          "base_uri": "https://localhost:8080/",
          "height": 409
        }
      },
      "cell_type": "code",
      "source": [
        "plot_predictions(testY,rnn_predictions)"
      ],
      "execution_count": 0,
      "outputs": [
        {
          "output_type": "display_data",
          "data": {
            "image/png": "[encoded data removed]",
            "text/plain": [
              "<Figure size 576x396 with 1 Axes>"
            ]
          },
          "metadata": {
            "tags": []
          }
        }
      ]
    },
    {
      "metadata": {
        "id": "EyIaKSj-JwpO",
        "colab_type": "code",
        "outputId": "3ada65a0-4827-4108-9cd2-c517969967f9",
        "colab": {
          "base_uri": "https://localhost:8080/",
          "height": 409
        }
      },
      "cell_type": "code",
      "source": [
        "plot_predictions(testY,lstm_predictions)"
      ],
      "execution_count": 0,
      "outputs": [
        {
          "output_type": "display_data",
          "data": {
            "image/png": "[encoded data removed]",
            "text/plain": [
              "<Figure size 576x396 with 1 Axes>"
            ]
          },
          "metadata": {
            "tags": []
          }
        }
      ]
    },
    {
      "metadata": {
        "id": "d6RHNEPYJ4Lh",
        "colab_type": "code",
        "colab": {}
      },
      "cell_type": "code",
      "source": [
        "def plot_predictions(test,predicted1,predicted2):\n",
        "    plt.plot(test, color='red',linewidth=7,label='Real Bitcoin Price')\n",
        "    plt.plot(lstm_predictions, c=\"green\",linewidth=6, label=\"LSTM\")\n",
        "    plt.plot(rnn_predictions, c=\"blue\",linewidth=0.1, label=\"RNN\")\n",
        "    plt.title('Bitcoin Price Prediction')\n",
        "    plt.xlabel('Time')\n",
        "    plt.ylabel('Bitcoin Stock Price')\n",
        "    plt.legend()\n",
        "    plt.show()"
      ],
      "execution_count": 0,
      "outputs": []
    },
    {
      "metadata": {
        "id": "Sr-QH3FqKGrb",
        "colab_type": "code",
        "outputId": "e7fb3ac3-ca50-415c-be8b-0b1693c095c0",
        "colab": {
          "base_uri": "https://localhost:8080/",
          "height": 409
        }
      },
      "cell_type": "code",
      "source": [
        "plot_predictions(testY,lstm_predictions,rnn_predictions)"
      ],
      "execution_count": 0,
      "outputs": [
        {
          "output_type": "display_data",
          "data": {
            "image/png": "[encoded data removed]",
            "text/plain": [
              "<Figure size 576x396 with 1 Axes>"
            ]
          },
          "metadata": {
            "tags": []
          }
        }
      ]
    }
  ]
}